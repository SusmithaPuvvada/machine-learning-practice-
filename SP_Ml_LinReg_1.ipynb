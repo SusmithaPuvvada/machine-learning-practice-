{
  "nbformat": 4,
  "nbformat_minor": 0,
  "metadata": {
    "colab": {
      "name": "SP_Ml_LinReg_1.ipynb",
      "provenance": [],
      "collapsed_sections": [],
      "include_colab_link": true
    },
    "kernelspec": {
      "name": "python3",
      "display_name": "Python 3"
    }
  },
  "cells": [
    {
      "cell_type": "markdown",
      "metadata": {
        "id": "view-in-github",
        "colab_type": "text"
      },
      "source": [
        "<a href=\"https://colab.research.google.com/github/SusmithaPuvvada/machine-learning-practice-/blob/master/SP_Ml_LinReg_1.ipynb\" target=\"_parent\"><img src=\"https://colab.research.google.com/assets/colab-badge.svg\" alt=\"Open In Colab\"/></a>"
      ]
    },
    {
      "cell_type": "code",
      "metadata": {
        "id": "QjVgL3r169zF",
        "colab_type": "code",
        "outputId": "9b2c24a3-dbbc-4aae-b442-71bcd6bcde28",
        "colab": {
          "base_uri": "https://localhost:8080/",
          "height": 756
        }
      },
      "source": [
        "\n",
        "\n",
        "#Making imports\n",
        "import pandas as pd\n",
        "import numpy as np\n",
        "import matplotlib.pyplot as plt\n",
        "plt.rcParams['figure.figsize']=(6.0,6.0)\n",
        "\n",
        "\n",
        "#data preprocessing\n",
        "\n",
        "my_data=[[-2,-1],[1,1],[3,2]]\n",
        "data=pd.DataFrame(my_data)\n",
        "X=data.iloc[:,0]\n",
        "y=data.iloc[:,1]\n",
        "plt.scatter(X,y)\n",
        "plt.show()\n",
        "\n",
        "\n",
        "#building model\n",
        "\n",
        "X_mean=np.mean(X)\n",
        "y_mean=np.mean(y)\n",
        "\n",
        "\n",
        "#to find slope m\n",
        "\n",
        "num=0\n",
        "den=0\n",
        "for i in range(len(X)):\n",
        "  num+=(X[i]-X_mean)*(y[i]-y_mean)\n",
        "  \n",
        "  den+=((X[i]-X_mean)**2)\n",
        "  \n",
        "m=num/den\n",
        "c=y_mean-m*X_mean\n",
        "\n",
        "print(\"Slope=\",m,\",\",\"y_intercept=\",c)\n",
        "\n",
        "\n",
        "#prediction making\n",
        "\n",
        "y_pred=m*X+c\n",
        "\n",
        "plt.scatter(X,y)\n",
        "plt.scatter(X,y_pred,color='red')\n",
        "plt.plot(X,y_pred,color='green')\n",
        "plt.show()\n"
      ],
      "execution_count": 0,
      "outputs": [
        {
          "output_type": "display_data",
          "data": {
            "image/png": "[encoded data removed]",
            "text/plain": [
              "<Figure size 432x432 with 1 Axes>"
            ]
          },
          "metadata": {
            "tags": []
          }
        },
        {
          "output_type": "stream",
          "text": [
            "Slope= 0.6052631578947367 , y_intercept= 0.26315789473684215\n"
          ],
          "name": "stdout"
        },
        {
          "output_type": "display_data",
          "data": {
            "image/png": "[encoded data removed]",
            "text/plain": [
              "<Figure size 432x432 with 1 Axes>"
            ]
          },
          "metadata": {
            "tags": []
          }
        }
      ]
    }
  ]
}