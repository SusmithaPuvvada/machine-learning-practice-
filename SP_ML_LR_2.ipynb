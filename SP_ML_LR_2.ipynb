{
  "nbformat": 4,
  "nbformat_minor": 0,
  "metadata": {
    "colab": {
      "name": "SP_ML_LR_2.ipynb",
      "provenance": [],
      "collapsed_sections": [],
      "include_colab_link": true
    },
    "kernelspec": {
      "name": "python3",
      "display_name": "Python 3"
    }
  },
  "cells": [
    {
      "cell_type": "markdown",
      "metadata": {
        "id": "view-in-github",
        "colab_type": "text"
      },
      "source": [
        "<a href=\"https://colab.research.google.com/github/SusmithaPuvvada/machine-learning-practice-/blob/master/SP_ML_LR_2.ipynb\" target=\"_parent\"><img src=\"https://colab.research.google.com/assets/colab-badge.svg\" alt=\"Open In Colab\"/></a>"
      ]
    },
    {
      "cell_type": "code",
      "metadata": {
        "id": "ghRcf_PNsF6d",
        "colab_type": "code",
        "colab": {
          "base_uri": "https://localhost:8080/",
          "height": 428
        },
        "outputId": "e8fcb04c-8bde-4d8d-b24d-a63270683397"
      },
      "source": [
        "#Making imports\n",
        "import pandas as pd\n",
        "import numpy as np\n",
        "import matplotlib.pyplot as plt\n",
        "plt.rcParams['figure.figsize']=(3.0,3.0)\n",
        "\n",
        "\n",
        "#data Pre processing\n",
        "\n",
        "my_data = [[-1,0],[0,2],[1,4],[2,5]]\n",
        "data = pd.DataFrame(my_data)\n",
        "X = data.iloc[:,0]\n",
        "y = data.iloc[:,1]\n",
        "plt.scatter(X,y)\n",
        "plt.show()\n",
        "\n",
        "\n",
        "\n",
        "#Building Model\n",
        "X_mean = np.mean(X)\n",
        "y_mean = np.mean(y)\n",
        "\n",
        "#to find slope\n",
        "\n",
        "num=0\n",
        "den=0\n",
        "\n",
        "for i in range(len(X)):\n",
        "  num+=(X[i]-X_mean)*(y[i]-y_mean)\n",
        "  \n",
        "  den+=(X[i]-X_mean)**2\n",
        "m=num/den\n",
        "\n",
        "c=y_mean-m*X_mean\n",
        "\n",
        "print(\"Slope = \",m ,\",\" ,\"y_intercept=\",c)\n",
        "\n",
        "\n",
        "\n",
        "#Prediction Making\n",
        "\n",
        "y_pred=m*X+c\n",
        "\n",
        "plt.scatter(X,y)\n",
        "plt.scatter(X,y_pred,color='red')\n",
        "plt.plot(X,y_pred,color='green')\n",
        "plt.show()"
      ],
      "execution_count": 17,
      "outputs": [
        {
          "output_type": "display_data",
          "data": {
            "image/png": "[encoded data removed]",
            "text/plain": [
              "<Figure size 216x216 with 1 Axes>"
            ]
          },
          "metadata": {
            "tags": []
          }
        },
        {
          "output_type": "stream",
          "text": [
            "Slope =  1.7 , y_intercept= 1.9\n"
          ],
          "name": "stdout"
        },
        {
          "output_type": "display_data",
          "data": {
            "image/png": "[encoded data removed]",
            "text/plain": [
              "<Figure size 216x216 with 1 Axes>"
            ]
          },
          "metadata": {
            "tags": []
          }
        }
      ]
    }
  ]
}