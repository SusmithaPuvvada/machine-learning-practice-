{
  "nbformat": 4,
  "nbformat_minor": 0,
  "metadata": {
    "colab": {
      "name": "SP_ML_LinReg4.ipynb",
      "provenance": [],
      "collapsed_sections": [],
      "include_colab_link": true
    },
    "kernelspec": {
      "name": "python3",
      "display_name": "Python 3"
    }
  },
  "cells": [
    {
      "cell_type": "markdown",
      "metadata": {
        "id": "view-in-github",
        "colab_type": "text"
      },
      "source": [
        "<a href=\"https://colab.research.google.com/github/SusmithaPuvvada/machine-learning-practice-/blob/master/SP_ML_LinReg4.ipynb\" target=\"_parent\"><img src=\"https://colab.research.google.com/assets/colab-badge.svg\" alt=\"Open In Colab\"/></a>"
      ]
    },
    {
      "cell_type": "code",
      "metadata": {
        "id": "Dodh6yAU8FjW",
        "colab_type": "code",
        "outputId": "b423f3b7-00c3-4957-efcb-81444625e7e1",
        "colab": {
          "base_uri": "https://localhost:8080/",
          "height": 875
        }
      },
      "source": [
        "\n",
        "\n",
        "#Making imports\n",
        "import pandas as pd\n",
        "import numpy as np\n",
        "import matplotlib.pyplot as plt\n",
        "\n",
        "\n",
        "\n",
        "#data preprocessing\n",
        "\n",
        "my_data=[[2005,12],[2006,19],[2007,29],[2008,37],[2009,45]]\n",
        "data=pd.DataFrame(my_data)\n",
        "print(data)\n",
        "X=data.iloc[:,0]\n",
        "y=data.iloc[:,1]\n",
        "plt.scatter(X,y)\n",
        "plt.show()\n",
        "\n",
        "\n",
        "#building model\n",
        "\n",
        "X_mean=np.mean(X)\n",
        "y_mean=np.mean(y)\n",
        "\n",
        "\n",
        "#to find slope m\n",
        "\n",
        "num=0\n",
        "den=0\n",
        "for i in range(len(X)):\n",
        "  num+=(X[i]-X_mean)*(y[i]-y_mean)\n",
        "  \n",
        "  den+=((X[i]-X_mean)**2)\n",
        "  \n",
        "m=num/den\n",
        "c=y_mean-m*X_mean\n",
        "\n",
        "print(\"Slope=\",m,\",\",\"y_intercept=\",c)\n",
        "\n",
        "\n",
        "#prediction making\n",
        "\n",
        "y_pred=m*X+c\n",
        "\n",
        "plt.scatter(X,y)\n",
        "plt.scatter(X,y_pred,color='red')\n",
        "plt.plot(X,y_pred,color='green')\n",
        "plt.show()\n",
        "\n",
        "\n",
        "X=2012\n",
        "y=m*X+c\n",
        "print(\"Predicted price of y for x=2012 is\",y)"
      ],
      "execution_count": 0,
      "outputs": [
        {
          "output_type": "stream",
          "text": [
            "      0   1\n",
            "0  2005  12\n",
            "1  2006  19\n",
            "2  2007  29\n",
            "3  2008  37\n",
            "4  2009  45\n"
          ],
          "name": "stdout"
        },
        {
          "output_type": "display_data",
          "data": {
            "image/png": "[encoded data removed]",
            "text/plain": [
              "<Figure size 432x432 with 1 Axes>"
            ]
          },
          "metadata": {
            "tags": []
          }
        },
        {
          "output_type": "stream",
          "text": [
            "Slope= 8.4 , y_intercept= -16830.399999999998\n"
          ],
          "name": "stdout"
        },
        {
          "output_type": "display_data",
          "data": {
            "image/png": "[encoded data removed]",
            "text/plain": [
              "<Figure size 432x432 with 1 Axes>"
            ]
          },
          "metadata": {
            "tags": []
          }
        },
        {
          "output_type": "stream",
          "text": [
            "Predicted price of y for x=2012 is 70.40000000000146\n"
          ],
          "name": "stdout"
        }
      ]
    },
    {
      "cell_type": "markdown",
      "metadata": {
        "id": "RJzVH7d03DMB",
        "colab_type": "text"
      },
      "source": [
        ""
      ]
    }
  ]
}